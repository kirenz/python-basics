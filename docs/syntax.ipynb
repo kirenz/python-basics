{
 "cells": [
  {
   "cell_type": "markdown",
   "metadata": {},
   "source": [
    "# Syntax\n",
    "\n",
    "*This short tutorial is a very brief exploration of the essential features of Python syntax. It is mainly based on content from the App [Tinkerstellar](https://tinkerstellar.com) by Alex Staravoitau and Jack VanderPlas's [Whirlwind Tour of Python](https://jakevdp.github.io/WhirlwindTourOfPython/).*  "
   ]
  },
  {
   "cell_type": "markdown",
   "metadata": {},
   "source": [
    "\n",
    "- Syntax refers to the structure of the language (i.e., what constitutes a correctly-formed program). \n",
    "- Here, we'll not focus on the semantics – the meaning of the words and symbols within the syntax."
   ]
  },
  {
   "cell_type": "code",
   "execution_count": 1,
   "metadata": {},
   "outputs": [
    {
     "name": "stdout",
     "output_type": "stream",
     "text": [
      "lower: [0, 1, 2, 3, 4]\n",
      "upper: [5, 6, 7, 8, 9]\n"
     ]
    }
   ],
   "source": [
    "# set the midpoint\n",
    "midpoint = 5\n",
    "\n",
    "# make two empty lists\n",
    "lower = []\n",
    "upper = []\n",
    "\n",
    "# split the numbers into lower and upper\n",
    "for i in range(10):\n",
    "    if (i < midpoint):\n",
    "        lower.append(i)\n",
    "    else:\n",
    "        upper.append(i)\n",
    "        \n",
    "print(\"lower:\", lower)\n",
    "print(\"upper:\", upper)"
   ]
  },
  {
   "cell_type": "markdown",
   "metadata": {},
   "source": [
    "## Comments\n",
    "\n",
    "- Comments in Python are marked by #\n",
    "- Anything on the line following the # sign is ignored by the interpreter"
   ]
  },
  {
   "cell_type": "code",
   "execution_count": 2,
   "metadata": {},
   "outputs": [],
   "source": [
    "# set the midpoint"
   ]
  },
  {
   "cell_type": "code",
   "execution_count": 3,
   "metadata": {},
   "outputs": [
    {
     "name": "stdout",
     "output_type": "stream",
     "text": [
      "3\n"
     ]
    }
   ],
   "source": [
    "# below are examples of inline comments\n",
    "x = 1 # create a variable x and assign value 1\n",
    "x += 2  # shorthand for x = x + 2\n",
    "print(x) # print x"
   ]
  },
  {
   "cell_type": "markdown",
   "metadata": {},
   "source": [
    "## Statements\n",
    "\n",
    "- End-of-line terminates a statement in Python"
   ]
  },
  {
   "cell_type": "code",
   "execution_count": 4,
   "metadata": {},
   "outputs": [],
   "source": [
    "midpoint = 5"
   ]
  },
  {
   "cell_type": "markdown",
   "metadata": {},
   "source": [
    "- This is an assignment operation, where we've created a variable named midpoint and assigned it the value 5. \n",
    "- Notice that the end of this statement is simply marked by the end of the line. \n",
    "- If you'd like a statement to continue to the next line, it is possible to use the \"\\\\\" marker to indicate this:"
   ]
  },
  {
   "cell_type": "code",
   "execution_count": 5,
   "metadata": {},
   "outputs": [
    {
     "name": "stdout",
     "output_type": "stream",
     "text": [
      "36\n"
     ]
    }
   ],
   "source": [
    "x = 1 + 2 + 3 + 4 +\\\n",
    "    5 + 6 + 7 + 8\n",
    "print(x)"
   ]
  },
  {
   "cell_type": "markdown",
   "metadata": {},
   "source": [
    "- It is also possible to continue expressions on the next line within parentheses:"
   ]
  },
  {
   "cell_type": "code",
   "execution_count": 6,
   "metadata": {},
   "outputs": [
    {
     "name": "stdout",
     "output_type": "stream",
     "text": [
      "36\n"
     ]
    }
   ],
   "source": [
    "x = (1 + 2 + 3 + 4 +\n",
    "     5 + 6 + 7 + 8)\n",
    "print(x)"
   ]
  },
  {
   "cell_type": "markdown",
   "metadata": {},
   "source": [
    "- Most Python style guides recommend the second version of line continuation (within parentheses) "
   ]
  },
  {
   "cell_type": "markdown",
   "metadata": {},
   "source": [
    "## Indentation"
   ]
  },
  {
   "cell_type": "markdown",
   "metadata": {},
   "source": [
    "- A block of code is a set of statements that should be treated as a unit\n",
    "- Code blocks are denoted by indentation (white space)\n",
    "- The amount of whitespace used for indenting code blocks is up to the user, as long as it is consistent throughout the script\n",
    "- By convention, most style guides recommend to indent code blocks by four spaces \n",
    "- Indented code blocks are always preceded by a colon (:) on the previous line"
   ]
  },
  {
   "cell_type": "code",
   "execution_count": 7,
   "metadata": {},
   "outputs": [],
   "source": [
    "midpoint = 5\n",
    "for i in range(10):\n",
    "    if i < midpoint:\n",
    "        lower.append(i)\n",
    "    else:\n",
    "        upper.append(i)"
   ]
  },
  {
   "cell_type": "markdown",
   "metadata": {},
   "source": [
    "- In the snippet below, print(x) is in the indented block, and will be executed only if x is less than 4"
   ]
  },
  {
   "cell_type": "code",
   "execution_count": 8,
   "metadata": {},
   "outputs": [],
   "source": [
    "x=5\n",
    "if x < 4:\n",
    "    y = x * 2\n",
    "    print(x)      "
   ]
  },
  {
   "cell_type": "markdown",
   "metadata": {},
   "source": [
    "- In the snippet below, print(x) is outside the block, and will be executed regardless of the value of x"
   ]
  },
  {
   "cell_type": "code",
   "execution_count": 9,
   "metadata": {},
   "outputs": [
    {
     "name": "stdout",
     "output_type": "stream",
     "text": [
      "5\n"
     ]
    }
   ],
   "source": [
    "x=5\n",
    "if x < 4:\n",
    "    y = x * 2\n",
    "print(x)      "
   ]
  },
  {
   "cell_type": "markdown",
   "metadata": {},
   "source": [
    "## Whitespace within lines"
   ]
  },
  {
   "cell_type": "markdown",
   "metadata": {},
   "source": [
    "- White space within lines of Python code does not matter\n",
    "- For example, all three of these expressions are equivalent"
   ]
  },
  {
   "cell_type": "code",
   "execution_count": 10,
   "metadata": {},
   "outputs": [
    {
     "name": "stdout",
     "output_type": "stream",
     "text": [
      "3\n"
     ]
    }
   ],
   "source": [
    "a=1+2\n",
    "a = 1 + 2\n",
    "a   =   1   +   2\n",
    "\n",
    "print(a)"
   ]
  },
  {
   "cell_type": "markdown",
   "metadata": {},
   "source": [
    "- Using whitespace effectively can lead to much more readable code"
   ]
  },
  {
   "cell_type": "code",
   "execution_count": 11,
   "metadata": {},
   "outputs": [],
   "source": [
    "b=10**-2\n",
    "\n",
    "b = 10 ** -2"
   ]
  },
  {
   "cell_type": "markdown",
   "metadata": {},
   "source": [
    "## Parentheses\n",
    "\n",
    "- Parentheses are used for grouping or calling\n",
    "- They can be used in the typical way to group statements or mathematical operations:"
   ]
  },
  {
   "cell_type": "code",
   "execution_count": 12,
   "metadata": {},
   "outputs": [
    {
     "data": {
      "text/plain": [
       "14"
      ]
     },
     "execution_count": 12,
     "metadata": {},
     "output_type": "execute_result"
    }
   ],
   "source": [
    "2 * (3 + 4)"
   ]
  },
  {
   "cell_type": "markdown",
   "metadata": {},
   "source": [
    "- They can also be used to indicate that a function is being called. \n",
    "- In the next snippet, the `print()` function is used to display the contents of a variable. \n",
    "- The function call is indicated by a pair of opening and closing parentheses, with the arguments to the function contained within:"
   ]
  },
  {
   "cell_type": "code",
   "execution_count": 13,
   "metadata": {},
   "outputs": [
    {
     "name": "stdout",
     "output_type": "stream",
     "text": [
      "Value: 1\n"
     ]
    }
   ],
   "source": [
    "print('Value:', 1)"
   ]
  },
  {
   "cell_type": "markdown",
   "metadata": {},
   "source": [
    "- Some functions can be called with no arguments at all, in which case the opening and closing parentheses still must be used to indicate a function evaluation. \n",
    "- An example of this is the sort method of lists:"
   ]
  },
  {
   "cell_type": "code",
   "execution_count": 14,
   "metadata": {},
   "outputs": [
    {
     "name": "stdout",
     "output_type": "stream",
     "text": [
      "[1, 2, 3, 4]\n"
     ]
    }
   ],
   "source": [
    "L = [4,2,3,1]\n",
    "L.sort()\n",
    "\n",
    "print(L)"
   ]
  },
  {
   "cell_type": "markdown",
   "metadata": {},
   "source": [
    "- The \"()\" after sort indicates that the function should be executed, and is required even if no arguments are necessary."
   ]
  },
  {
   "cell_type": "markdown",
   "metadata": {},
   "source": [
    "## Style guides\n",
    "\n",
    "- The most widely used style guide in Python is known as PEP8, and can be found at https://www.python.org/dev/peps/pep-0008/"
   ]
  }
 ],
 "metadata": {
  "kernelspec": {
   "display_name": "Python 3",
   "language": "python",
   "name": "python3"
  },
  "language_info": {
   "codemirror_mode": {
    "name": "ipython",
    "version": 3
   },
   "file_extension": ".py",
   "mimetype": "text/x-python",
   "name": "python",
   "nbconvert_exporter": "python",
   "pygments_lexer": "ipython3",
   "version": "3.9.7"
  }
 },
 "nbformat": 4,
 "nbformat_minor": 2
}
