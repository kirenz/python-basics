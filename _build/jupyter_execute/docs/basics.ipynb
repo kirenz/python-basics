{
 "cells": [
  {
   "cell_type": "markdown",
   "metadata": {},
   "source": [
    "# First steps\n",
    "\n",
    "- Python is an interpreted language. \n",
    "- The Python interpreter runs a program by executing one statement at a time. \n",
    "- The standard interactive Python interpreter can be invoked on the command line with the python command:"
   ]
  }
 ],
 "metadata": {
  "kernelspec": {
   "display_name": "Python 3",
   "language": "python",
   "name": "python3"
  },
  "language_info": {
   "codemirror_mode": {
    "name": "ipython",
    "version": 3
   },
   "file_extension": ".py",
   "mimetype": "text/x-python",
   "name": "python",
   "nbconvert_exporter": "python",
   "pygments_lexer": "ipython3",
   "version": "3.9.7"
  }
 },
 "nbformat": 4,
 "nbformat_minor": 2
}